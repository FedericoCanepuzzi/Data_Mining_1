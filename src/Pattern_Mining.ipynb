{
 "cells": [
  {
   "cell_type": "code",
   "execution_count": 133,
   "metadata": {},
   "outputs": [],
   "source": [
    "%matplotlib inline\n",
    "\n",
    "import numpy as np\n",
    "import pandas as pd\n",
    "import matplotlib.pyplot as plt\n",
    "from fim import apriori"
   ]
  },
  {
   "cell_type": "code",
   "execution_count": 134,
   "metadata": {},
   "outputs": [],
   "source": [
    "df= pd.read_csv(\"Dati_Pattern.csv\")"
   ]
  },
  {
   "cell_type": "code",
   "execution_count": 135,
   "metadata": {},
   "outputs": [
    {
     "data": {
      "text/html": [
       "<div>\n",
       "<style scoped>\n",
       "    .dataframe tbody tr th:only-of-type {\n",
       "        vertical-align: middle;\n",
       "    }\n",
       "\n",
       "    .dataframe tbody tr th {\n",
       "        vertical-align: top;\n",
       "    }\n",
       "\n",
       "    .dataframe thead th {\n",
       "        text-align: right;\n",
       "    }\n",
       "</style>\n",
       "<table border=\"1\" class=\"dataframe\">\n",
       "  <thead>\n",
       "    <tr style=\"text-align: right;\">\n",
       "      <th></th>\n",
       "      <th>Attrition</th>\n",
       "      <th>BusinessTravel</th>\n",
       "      <th>Education</th>\n",
       "      <th>EducationField</th>\n",
       "      <th>Gender</th>\n",
       "      <th>JobRole</th>\n",
       "      <th>MaritalStatus</th>\n",
       "      <th>OverTime</th>\n",
       "      <th>PerformanceRating</th>\n",
       "      <th>StockOptionLevel</th>\n",
       "      <th>TrainingTimesLastYear</th>\n",
       "      <th>Satisfaction-Class</th>\n",
       "      <th>ChangeCompanyRate-Class</th>\n",
       "      <th>YearsInCurrentRole-Class</th>\n",
       "      <th>TotalWorkingYears-Class</th>\n",
       "      <th>PercentSalaryHike-Class</th>\n",
       "      <th>DistanceFromHome-Class</th>\n",
       "      <th>Age-Class</th>\n",
       "      <th>MonthlyIncome-Class</th>\n",
       "    </tr>\n",
       "  </thead>\n",
       "  <tbody>\n",
       "    <tr>\n",
       "      <th>0</th>\n",
       "      <td>No_Attrition</td>\n",
       "      <td>Travel_Rarely</td>\n",
       "      <td>Master</td>\n",
       "      <td>Medical</td>\n",
       "      <td>Male</td>\n",
       "      <td>Research Director</td>\n",
       "      <td>Single</td>\n",
       "      <td>No_OverTime</td>\n",
       "      <td>Tre_Performance</td>\n",
       "      <td>LivelloZero</td>\n",
       "      <td>Due_Training</td>\n",
       "      <td>Satisfaction[12; 14]</td>\n",
       "      <td>ChangeCompanyRate[8.03; 9.25]</td>\n",
       "      <td>YearsInCurrentRole[7; 10]</td>\n",
       "      <td>TotalWorkingYears[19; 31]</td>\n",
       "      <td>PercentSalaryHike[14; 18]</td>\n",
       "      <td>DistanceFromHome[7; 11]</td>\n",
       "      <td>Age[52.0; 60.0]</td>\n",
       "      <td>MonthlyIncome[6272.0; 9419.0]</td>\n",
       "    </tr>\n",
       "    <tr>\n",
       "      <th>1</th>\n",
       "      <td>No_Attrition</td>\n",
       "      <td>Travel_Rarely</td>\n",
       "      <td>Below College</td>\n",
       "      <td>Life Sciences</td>\n",
       "      <td>Male</td>\n",
       "      <td>Manager</td>\n",
       "      <td>Divorced</td>\n",
       "      <td>Si_OverTime</td>\n",
       "      <td>Tre_Performance</td>\n",
       "      <td>LivelloUno</td>\n",
       "      <td>Tre_Training</td>\n",
       "      <td>Satisfaction[12; 14]</td>\n",
       "      <td>ChangeCompanyRate[0.03; 2.2]</td>\n",
       "      <td>YearsInCurrentRole[7; 10]</td>\n",
       "      <td>TotalWorkingYears[19; 31]</td>\n",
       "      <td>PercentSalaryHike[14; 18]</td>\n",
       "      <td>DistanceFromHome[1; 6]</td>\n",
       "      <td>Age[33.0; 43.0]</td>\n",
       "      <td>MonthlyIncome[1009.0; 6244.0]</td>\n",
       "    </tr>\n",
       "    <tr>\n",
       "      <th>2</th>\n",
       "      <td>No_Attrition</td>\n",
       "      <td>Travel_Frequently</td>\n",
       "      <td>Bachelor</td>\n",
       "      <td>Life Sciences</td>\n",
       "      <td>NaN</td>\n",
       "      <td>Sales Executive</td>\n",
       "      <td>Divorced</td>\n",
       "      <td>Si_OverTime</td>\n",
       "      <td>Tre_Performance</td>\n",
       "      <td>LivelloUno</td>\n",
       "      <td>Quattro_Training</td>\n",
       "      <td>Satisfaction[15; 16]</td>\n",
       "      <td>ChangeCompanyRate[0.03; 2.2]</td>\n",
       "      <td>YearsInCurrentRole[3; 6]</td>\n",
       "      <td>TotalWorkingYears[0; 10]</td>\n",
       "      <td>PercentSalaryHike[21; 25]</td>\n",
       "      <td>DistanceFromHome[12; 18]</td>\n",
       "      <td>NaN</td>\n",
       "      <td>MonthlyIncome[1009.0; 6244.0]</td>\n",
       "    </tr>\n",
       "    <tr>\n",
       "      <th>3</th>\n",
       "      <td>No_Attrition</td>\n",
       "      <td>Travel_Rarely</td>\n",
       "      <td>Master</td>\n",
       "      <td>Technical Degree</td>\n",
       "      <td>Male</td>\n",
       "      <td>Research Scientist</td>\n",
       "      <td>Single</td>\n",
       "      <td>No_OverTime</td>\n",
       "      <td>Tre_Performance</td>\n",
       "      <td>LivelloZero</td>\n",
       "      <td>Uno_Training</td>\n",
       "      <td>Satisfaction[12; 14]</td>\n",
       "      <td>ChangeCompanyRate[0.03; 2.2]</td>\n",
       "      <td>YearsInCurrentRole[7; 10]</td>\n",
       "      <td>TotalWorkingYears[11; 18]</td>\n",
       "      <td>PercentSalaryHike[14; 18]</td>\n",
       "      <td>DistanceFromHome[1; 6]</td>\n",
       "      <td>Age[33.0; 43.0]</td>\n",
       "      <td>MonthlyIncome[1009.0; 6244.0]</td>\n",
       "    </tr>\n",
       "    <tr>\n",
       "      <th>4</th>\n",
       "      <td>No_Attrition</td>\n",
       "      <td>Travel_Rarely</td>\n",
       "      <td>College</td>\n",
       "      <td>Life Sciences</td>\n",
       "      <td>Female</td>\n",
       "      <td>Laboratory Technician</td>\n",
       "      <td>Single</td>\n",
       "      <td>No_OverTime</td>\n",
       "      <td>Tre_Performance</td>\n",
       "      <td>LivelloZero</td>\n",
       "      <td>NaN</td>\n",
       "      <td>Satisfaction[15; 16]</td>\n",
       "      <td>ChangeCompanyRate[0.03; 2.2]</td>\n",
       "      <td>YearsInCurrentRole[0; 2]</td>\n",
       "      <td>TotalWorkingYears[0; 10]</td>\n",
       "      <td>PercentSalaryHike[11; 13]</td>\n",
       "      <td>DistanceFromHome[7; 11]</td>\n",
       "      <td>NaN</td>\n",
       "      <td>MonthlyIncome[6272.0; 9419.0]</td>\n",
       "    </tr>\n",
       "  </tbody>\n",
       "</table>\n",
       "</div>"
      ],
      "text/plain": [
       "      Attrition     BusinessTravel      Education    EducationField  Gender  \\\n",
       "0  No_Attrition      Travel_Rarely         Master           Medical    Male   \n",
       "1  No_Attrition      Travel_Rarely  Below College     Life Sciences    Male   \n",
       "2  No_Attrition  Travel_Frequently       Bachelor     Life Sciences     NaN   \n",
       "3  No_Attrition      Travel_Rarely         Master  Technical Degree    Male   \n",
       "4  No_Attrition      Travel_Rarely        College     Life Sciences  Female   \n",
       "\n",
       "                 JobRole MaritalStatus     OverTime PerformanceRating  \\\n",
       "0      Research Director        Single  No_OverTime   Tre_Performance   \n",
       "1                Manager      Divorced  Si_OverTime   Tre_Performance   \n",
       "2        Sales Executive      Divorced  Si_OverTime   Tre_Performance   \n",
       "3     Research Scientist        Single  No_OverTime   Tre_Performance   \n",
       "4  Laboratory Technician        Single  No_OverTime   Tre_Performance   \n",
       "\n",
       "  StockOptionLevel TrainingTimesLastYear    Satisfaction-Class  \\\n",
       "0      LivelloZero          Due_Training  Satisfaction[12; 14]   \n",
       "1       LivelloUno          Tre_Training  Satisfaction[12; 14]   \n",
       "2       LivelloUno      Quattro_Training  Satisfaction[15; 16]   \n",
       "3      LivelloZero          Uno_Training  Satisfaction[12; 14]   \n",
       "4      LivelloZero                   NaN  Satisfaction[15; 16]   \n",
       "\n",
       "         ChangeCompanyRate-Class   YearsInCurrentRole-Class  \\\n",
       "0  ChangeCompanyRate[8.03; 9.25]  YearsInCurrentRole[7; 10]   \n",
       "1   ChangeCompanyRate[0.03; 2.2]  YearsInCurrentRole[7; 10]   \n",
       "2   ChangeCompanyRate[0.03; 2.2]   YearsInCurrentRole[3; 6]   \n",
       "3   ChangeCompanyRate[0.03; 2.2]  YearsInCurrentRole[7; 10]   \n",
       "4   ChangeCompanyRate[0.03; 2.2]   YearsInCurrentRole[0; 2]   \n",
       "\n",
       "     TotalWorkingYears-Class    PercentSalaryHike-Class  \\\n",
       "0  TotalWorkingYears[19; 31]  PercentSalaryHike[14; 18]   \n",
       "1  TotalWorkingYears[19; 31]  PercentSalaryHike[14; 18]   \n",
       "2   TotalWorkingYears[0; 10]  PercentSalaryHike[21; 25]   \n",
       "3  TotalWorkingYears[11; 18]  PercentSalaryHike[14; 18]   \n",
       "4   TotalWorkingYears[0; 10]  PercentSalaryHike[11; 13]   \n",
       "\n",
       "     DistanceFromHome-Class        Age-Class            MonthlyIncome-Class  \n",
       "0   DistanceFromHome[7; 11]  Age[52.0; 60.0]  MonthlyIncome[6272.0; 9419.0]  \n",
       "1    DistanceFromHome[1; 6]  Age[33.0; 43.0]  MonthlyIncome[1009.0; 6244.0]  \n",
       "2  DistanceFromHome[12; 18]              NaN  MonthlyIncome[1009.0; 6244.0]  \n",
       "3    DistanceFromHome[1; 6]  Age[33.0; 43.0]  MonthlyIncome[1009.0; 6244.0]  \n",
       "4   DistanceFromHome[7; 11]              NaN  MonthlyIncome[6272.0; 9419.0]  "
      ]
     },
     "execution_count": 135,
     "metadata": {},
     "output_type": "execute_result"
    }
   ],
   "source": [
    "df.head()"
   ]
  },
  {
   "cell_type": "code",
   "execution_count": 136,
   "metadata": {},
   "outputs": [],
   "source": [
    "baskets = df.values.tolist()"
   ]
  },
  {
   "cell_type": "code",
   "execution_count": 137,
   "metadata": {},
   "outputs": [
    {
     "data": {
      "text/plain": [
       "['No_Attrition',\n",
       " 'Travel_Rarely',\n",
       " 'Master',\n",
       " 'Medical',\n",
       " 'Male',\n",
       " 'Research Director',\n",
       " 'Single',\n",
       " 'No_OverTime',\n",
       " 'Tre_Performance',\n",
       " 'LivelloZero',\n",
       " 'Due_Training',\n",
       " 'Satisfaction[12; 14]',\n",
       " 'ChangeCompanyRate[8.03; 9.25]',\n",
       " 'YearsInCurrentRole[7; 10]',\n",
       " 'TotalWorkingYears[19; 31]',\n",
       " 'PercentSalaryHike[14; 18]',\n",
       " 'DistanceFromHome[7; 11]',\n",
       " 'Age[52.0; 60.0]',\n",
       " 'MonthlyIncome[6272.0; 9419.0]']"
      ]
     },
     "execution_count": 137,
     "metadata": {},
     "output_type": "execute_result"
    }
   ],
   "source": [
    "baskets[0]"
   ]
  },
  {
   "cell_type": "code",
   "execution_count": 6,
   "metadata": {},
   "outputs": [
    {
     "name": "stdout",
     "output_type": "stream",
     "text": [
      "Help on built-in function apriori in module fim:\n",
      "\n",
      "apriori(...)\n",
      "    apriori (tracts, target='s', supp=10, zmin=1, zmax=None, report='a',\n",
      "             eval='x', agg='x', thresh=10, prune=None, algo='b', mode='',\n",
      "             border=None)\n",
      "    Find frequent item sets with the Apriori algorithm.\n",
      "    tracts  transaction database to mine (mandatory)\n",
      "            The database must be an iterable of transactions;\n",
      "            each transaction must be an iterable of items;\n",
      "            each item must be a hashable object.\n",
      "            If the database is a dictionary, the transactions are\n",
      "            the keys, the values their (integer) multiplicities.\n",
      "    target  type of frequent item sets to find     (default: s)\n",
      "            s/a   sets/all   all     frequent item sets\n",
      "            c     closed     closed  frequent item sets\n",
      "            m     maximal    maximal frequent item sets\n",
      "            g     gens       generators\n",
      "            r     rules      association rules\n",
      "    supp    minimum support of an item set         (default: 10)\n",
      "            (positive: percentage, negative: absolute number)\n",
      "    conf    minimum confidence of an assoc. rule   (default: 80%)\n",
      "    zmin    minimum number of items per item set   (default: 1)\n",
      "    zmax    maximum number of items per item set   (default: no limit)\n",
      "    report  values to report with an item set      (default: a)\n",
      "            a     absolute item set support (number of transactions)\n",
      "            s     relative item set support as a fraction\n",
      "            S     relative item set support as a percentage\n",
      "            e     value of item set evaluation measure\n",
      "            E     value of item set evaluation measure as a percentage\n",
      "            (     combine values in a tuple (must be first character)\n",
      "            [     combine values in a list  (must be first character)\n",
      "            #     pattern spectrum as a dictionary  (no patterns)\n",
      "            =     pattern spectrum as a list        (no patterns)\n",
      "            |     pattern spectrum as three columns (no patterns)\n",
      "            for target 'r' (association rules) also available:\n",
      "            b     absolute body set  support (number of transactions)\n",
      "            x     relative body set  support as a fraction\n",
      "            X     relative body set  support as a percentage\n",
      "            h     absolute head item support (number of transactions)\n",
      "            y     relative head item support as a fraction\n",
      "            Y     relative head item support as a percentage\n",
      "            c     rule confidence as a fraction\n",
      "            C     rule confidence as a percentage\n",
      "            l     lift value of a rule (confidence/prior)\n",
      "            L     lift value of a rule as a percentage\n",
      "            Q     support of the empty set (total number of transactions)\n",
      "    eval    measure for item set evaluation        (default: x)\n",
      "            x     none       no measure / zero (default)\n",
      "            b     ldratio    binary logarithm of support quotient       (+)\n",
      "            c     conf       rule confidence                            (+)\n",
      "            d     confdiff   absolute confidence difference to prior    (+)\n",
      "            l     lift       lift value (confidence divided by prior)   (+)\n",
      "            a     liftdiff   absolute difference of lift value to 1     (+)\n",
      "            q     liftquot   difference of lift quotient to 1           (+)\n",
      "            v     cvct       conviction (inverse lift negated head)     (+)\n",
      "            e     cvctdiff   absolute difference of conviction to 1     (+)\n",
      "            r     cvctquot   difference of conviction quotient to 1     (+)\n",
      "            k     cprob      conditional probability ratio              (+)\n",
      "            j     import     importance (binary log. of prob. ratio)    (+)\n",
      "            z     cert       certainty factor (relative conf. change)   (+)\n",
      "            n     chi2       normalized chi^2 measure                   (+)\n",
      "            p     chi2pval   p-value f/ (unnormalized) chi^2 measure    (-)\n",
      "            y     yates      normalized chi^2 with Yates' correction    (+)\n",
      "            t     yatespval  p-value f/ Yates-corrected chi^2 measure   (-)\n",
      "            i     info       information difference to prior            (+)\n",
      "            g     infopval   p-value f/ G statistic/info. difference    (-)\n",
      "            f     fetprob    Fisher's exact test (table probability)    (-)\n",
      "            h     fetchi2    Fisher's exact test (chi^2 measure)        (-)\n",
      "            m     fetinfo    Fisher's exact test (mutual information)   (-)\n",
      "            s     fetsupp    Fisher's exact test (support)              (-)\n",
      "            Measures marked with (+) must meet or exceed the threshold,\n",
      "            measures marked with (-) must not exceed the threshold\n",
      "            in order for the item set to be reported.\n",
      "    agg     evaluation measure aggregation mode    (default: x)\n",
      "            x     none       no aggregation (use first value)\n",
      "            m     min        minimum of individual measure values\n",
      "            n     max        maximum of individual measure values\n",
      "            a     avg        average of individual measure values\n",
      "    thresh  threshold for evaluation measure       (default: 10%)\n",
      "    prune   min. size for evaluation filtering     (default: no pruning)\n",
      "            = 0   backward filtering       (no subset check)\n",
      "            < 0   weak   forward filtering (one subset  must qualify)\n",
      "            > 0   strong forward filtering (all subsets must qualify)\n",
      "    algo    algorithm variant to use               (default: a)\n",
      "            b     basic      standard algorithm (only choice)\n",
      "    mode    operation mode indicators/flags        (default: None)\n",
      "            x     do not use perfect extension pruning\n",
      "            t/T   do not organize transactions as a prefix tree\n",
      "            y     a-posteriori pruning of infrequent item sets\n",
      "            z     invalidate evaluation below expected support\n",
      "            o     use original rule support definition (body & head)\n",
      "    border  support border for filtering item sets (default: None)\n",
      "            Must be a list or tuple of (absolute) minimum support values\n",
      "            per item set size (by which the list/tuple is indexed).\n",
      "    appear  dictionary mapping items to item appearance indicators,\n",
      "            with the key None referring to the default item appearance.\n",
      "            (If None does not occur as a key or no dictionary is given,\n",
      "            the default item appearance indicator is 'both'.)\n",
      "            This parameter is only used if the target type is rules.\n",
      "            * item may not appear anywhere in a rule:\n",
      "              '-', 'n', 'none', 'neither', 'ignore'\n",
      "            * item may appear only in rule body/antecedent:\n",
      "              'i', 'in', 'inp', 'input', 'b', 'body',\n",
      "              'a', 'ante', 'antecedent'\n",
      "            * item may appear only in rule head/consequent:\n",
      "              'o', 'out',      'output', 'h', 'head',\n",
      "              'c', 'cons', 'consequent'\n",
      "            * item may appear anywhere in a rule:\n",
      "              'io', 'i&o', 'inout', 'in&out', 'bh', 'b&h', 'both'\n",
      "    returns if report is not in ['#','=','|']:\n",
      "              if the target is association rules:\n",
      "                a list of rules (i.e. tuples with two or more elements),\n",
      "                each consisting of a head/consequent item, a tuple with\n",
      "                a body/antecedent item set, and the values selected by\n",
      "                the parameter 'report', which may be combined into a\n",
      "                tuple or a list if report[0] is '(' or '[', respectively.\n",
      "              if the target is a type of item sets:\n",
      "                a list of patterns (i.e. tuples with one or more elements),\n",
      "                each consisting of a tuple with a found frequent item set\n",
      "                and the values selected by the parameter 'report', which\n",
      "                may be combined into a tuple or list if report[0] is '('\n",
      "                or '[', respectively\n",
      "            if report in ['#','=','|']:\n",
      "              a pattern spectrum as a dictionary mapping pattern sizes\n",
      "              to the corresponding occurrence support ranges, as a list\n",
      "              of triplets (size, min. support, max. support) or as three\n",
      "              columns for sizes and minimum and maximum support values\n",
      "\n"
     ]
    }
   ],
   "source": [
    "help(apriori)"
   ]
  },
  {
   "cell_type": "markdown",
   "metadata": {},
   "source": [
    "# Frequent itemsets"
   ]
  },
  {
   "cell_type": "code",
   "execution_count": null,
   "metadata": {},
   "outputs": [],
   "source": []
  },
  {
   "cell_type": "code",
   "execution_count": 7,
   "metadata": {},
   "outputs": [],
   "source": [
    "itemsets_freq= apriori(baskets, target='a', supp=20, zmin=2, report='as')"
   ]
  },
  {
   "cell_type": "code",
   "execution_count": 8,
   "metadata": {},
   "outputs": [
    {
     "data": {
      "text/plain": [
       "[(('DistanceFromHome[7; 11]', 'No_Attrition'), 246, 0.20918367346938777),\n",
       " (('Age[25.0; 32.0]', 'No_Attrition'), 236, 0.20068027210884354),\n",
       " (('Master', 'No_Attrition'), 266, 0.2261904761904762),\n",
       " (('Satisfaction[15; 16]', 'Tre_Performance'), 247, 0.2100340136054422),\n",
       " (('Satisfaction[15; 16]', 'No_Attrition'), 281, 0.2389455782312925),\n",
       " (('YearsInCurrentRole[7; 10]', 'No_OverTime'), 238, 0.20238095238095238),\n",
       " (('YearsInCurrentRole[7; 10]', 'Tre_Performance'), 243, 0.2066326530612245),\n",
       " (('YearsInCurrentRole[7; 10]', 'No_Attrition'), 291, 0.24744897959183673),\n",
       " (('Tre_Training', 'No_OverTime'), 245, 0.20833333333333334),\n",
       " (('Tre_Training', 'Tre_Performance'), 239, 0.2032312925170068)]"
      ]
     },
     "execution_count": 8,
     "metadata": {},
     "output_type": "execute_result"
    }
   ],
   "source": [
    "itemsets_freq[0:10]"
   ]
  },
  {
   "cell_type": "code",
   "execution_count": 9,
   "metadata": {},
   "outputs": [
    {
     "data": {
      "text/plain": [
       "414"
      ]
     },
     "execution_count": 9,
     "metadata": {},
     "output_type": "execute_result"
    }
   ],
   "source": [
    "len(itemsets_freq)"
   ]
  },
  {
   "cell_type": "code",
   "execution_count": 10,
   "metadata": {},
   "outputs": [],
   "source": [
    "itemsets_freq.sort(key=lambda x: x[1],reverse=True)"
   ]
  },
  {
   "cell_type": "code",
   "execution_count": 11,
   "metadata": {
    "scrolled": true
   },
   "outputs": [
    {
     "data": {
      "text/plain": [
       "[(('No_OverTime', 'No_Attrition'), 749, 0.6369047619047619),\n",
       " (('Tre_Performance', 'No_Attrition'), 735, 0.625),\n",
       " (('Travel_Rarely', 'No_Attrition'), 648, 0.5510204081632653),\n",
       " (('No_OverTime', 'Tre_Performance'), 630, 0.5357142857142857),\n",
       " (('TotalWorkingYears[0; 10]', 'No_Attrition'), 601, 0.5110544217687075),\n",
       " (('ChangeCompanyRate[0.03; 2.2]', 'No_Attrition'), 592, 0.5034013605442177),\n",
       " (('Travel_Rarely', 'Tre_Performance'), 567, 0.48214285714285715),\n",
       " (('No_OverTime', 'Tre_Performance', 'No_Attrition'),\n",
       "  563,\n",
       "  0.47874149659863946),\n",
       " (('TotalWorkingYears[0; 10]', 'Tre_Performance'), 559, 0.47534013605442177),\n",
       " (('Male', 'No_Attrition'), 555, 0.4719387755102041),\n",
       " ((nan, 'No_Attrition'), 549, 0.46683673469387754),\n",
       " (('Travel_Rarely', 'No_OverTime'), 547, 0.4651360544217687),\n",
       " (('TotalWorkingYears[0; 10]', 'No_OverTime'), 540, 0.45918367346938777),\n",
       " (('ChangeCompanyRate[0.03; 2.2]', 'Tre_Performance'),\n",
       "  527,\n",
       "  0.4481292517006803),\n",
       " (('MonthlyIncome[1009.0; 6244.0]', 'No_Attrition'), 524, 0.445578231292517),\n",
       " (('ChangeCompanyRate[0.03; 2.2]', 'TotalWorkingYears[0; 10]'),\n",
       "  510,\n",
       "  0.4336734693877551),\n",
       " (('ChangeCompanyRate[0.03; 2.2]', 'No_OverTime'), 498, 0.42346938775510207),\n",
       " (('Male', 'Tre_Performance'), 492, 0.41836734693877553),\n",
       " (('Travel_Rarely', 'No_OverTime', 'No_Attrition'), 492, 0.41836734693877553),\n",
       " (('Travel_Rarely', 'Tre_Performance', 'No_Attrition'),\n",
       "  485,\n",
       "  0.41241496598639454)]"
      ]
     },
     "execution_count": 11,
     "metadata": {},
     "output_type": "execute_result"
    }
   ],
   "source": [
    "itemsets_freq[0:20]"
   ]
  },
  {
   "cell_type": "code",
   "execution_count": 12,
   "metadata": {
    "scrolled": true
   },
   "outputs": [
    {
     "data": {
      "text/plain": [
       "[(('Travel_Rarely', 'No_OverTime', 'Tre_Performance', 'No_Attrition'),\n",
       "  369,\n",
       "  0.3137755102040816),\n",
       " (('TotalWorkingYears[0; 10]',\n",
       "   'No_OverTime',\n",
       "   'Tre_Performance',\n",
       "   'No_Attrition'),\n",
       "  350,\n",
       "  0.2976190476190476),\n",
       " (('ChangeCompanyRate[0.03; 2.2]',\n",
       "   'No_OverTime',\n",
       "   'Tre_Performance',\n",
       "   'No_Attrition'),\n",
       "  333,\n",
       "  0.28316326530612246),\n",
       " (('ChangeCompanyRate[0.03; 2.2]',\n",
       "   'TotalWorkingYears[0; 10]',\n",
       "   'No_OverTime',\n",
       "   'No_Attrition'),\n",
       "  319,\n",
       "  0.27125850340136054),\n",
       " (('Male', 'No_OverTime', 'Tre_Performance', 'No_Attrition'),\n",
       "  313,\n",
       "  0.266156462585034),\n",
       " (('ChangeCompanyRate[0.03; 2.2]',\n",
       "   'TotalWorkingYears[0; 10]',\n",
       "   'Tre_Performance',\n",
       "   'No_Attrition'),\n",
       "  308,\n",
       "  0.2619047619047619),\n",
       " (('TotalWorkingYears[0; 10]', 'Travel_Rarely', 'No_OverTime', 'No_Attrition'),\n",
       "  306,\n",
       "  0.2602040816326531),\n",
       " (('TotalWorkingYears[0; 10]',\n",
       "   'Travel_Rarely',\n",
       "   'Tre_Performance',\n",
       "   'No_Attrition'),\n",
       "  300,\n",
       "  0.25510204081632654),\n",
       " (('ChangeCompanyRate[0.03; 2.2]',\n",
       "   'Travel_Rarely',\n",
       "   'No_OverTime',\n",
       "   'No_Attrition'),\n",
       "  299,\n",
       "  0.2542517006802721),\n",
       " (('MonthlyIncome[1009.0; 6244.0]',\n",
       "   'No_OverTime',\n",
       "   'Tre_Performance',\n",
       "   'No_Attrition'),\n",
       "  294,\n",
       "  0.25),\n",
       " (('ChangeCompanyRate[0.03; 2.2]',\n",
       "   'Travel_Rarely',\n",
       "   'Tre_Performance',\n",
       "   'No_Attrition'),\n",
       "  292,\n",
       "  0.24829931972789115),\n",
       " (('Male', 'Travel_Rarely', 'No_OverTime', 'No_Attrition'),\n",
       "  284,\n",
       "  0.24149659863945577),\n",
       " (('ChangeCompanyRate[0.03; 2.2]',\n",
       "   'TotalWorkingYears[0; 10]',\n",
       "   'Travel_Rarely',\n",
       "   'No_Attrition'),\n",
       "  277,\n",
       "  0.23554421768707484),\n",
       " (('Married', 'No_OverTime', 'Tre_Performance', 'No_Attrition'),\n",
       "  275,\n",
       "  0.233843537414966),\n",
       " (('Satisfaction[12; 14]', 'No_OverTime', 'Tre_Performance', 'No_Attrition'),\n",
       "  274,\n",
       "  0.23299319727891157),\n",
       " ((nan, 'No_OverTime', 'Tre_Performance', 'No_Attrition'),\n",
       "  274,\n",
       "  0.23299319727891157),\n",
       " (('Male', 'TotalWorkingYears[0; 10]', 'No_OverTime', 'No_Attrition'),\n",
       "  274,\n",
       "  0.23299319727891157),\n",
       " (('Male', 'Travel_Rarely', 'Tre_Performance', 'No_Attrition'),\n",
       "  270,\n",
       "  0.22959183673469388),\n",
       " (('ChangeCompanyRate[0.03; 2.2]',\n",
       "   'TotalWorkingYears[0; 10]',\n",
       "   'No_OverTime',\n",
       "   'Tre_Performance'),\n",
       "  269,\n",
       "  0.22874149659863946),\n",
       " (('DistanceFromHome[1; 6]', 'No_OverTime', 'Tre_Performance', 'No_Attrition'),\n",
       "  268,\n",
       "  0.22789115646258504)]"
      ]
     },
     "execution_count": 12,
     "metadata": {},
     "output_type": "execute_result"
    }
   ],
   "source": [
    "itemsets_freq= apriori(baskets, target='a', supp=20, zmin=4, report='as')\n",
    "itemsets_freq.sort(key=lambda x: x[1],reverse=True)\n",
    "itemsets_freq[0:20]"
   ]
  },
  {
   "cell_type": "code",
   "execution_count": 13,
   "metadata": {},
   "outputs": [
    {
     "data": {
      "text/plain": [
       "No_OverTime    838\n",
       "Si_OverTime    338\n",
       "Name: OverTime, dtype: int64"
      ]
     },
     "execution_count": 13,
     "metadata": {},
     "output_type": "execute_result"
    }
   ],
   "source": [
    "df['OverTime'].value_counts()\n",
    "#89 (No_OverTime, Si_Attrition)\n",
    "#103 (Si_OverTime, Si_Attrition)"
   ]
  },
  {
   "cell_type": "code",
   "execution_count": 14,
   "metadata": {},
   "outputs": [
    {
     "data": {
      "text/plain": [
       "Tre_Performance        880\n",
       "Quattro_Performance    158\n",
       "Name: PerformanceRating, dtype: int64"
      ]
     },
     "execution_count": 14,
     "metadata": {},
     "output_type": "execute_result"
    }
   ],
   "source": [
    "df['PerformanceRating'].value_counts()"
   ]
  },
  {
   "cell_type": "code",
   "execution_count": 15,
   "metadata": {},
   "outputs": [
    {
     "data": {
      "text/plain": [
       "No_Attrition    984\n",
       "Si_Attrition    192\n",
       "Name: Attrition, dtype: int64"
      ]
     },
     "execution_count": 15,
     "metadata": {},
     "output_type": "execute_result"
    }
   ],
   "source": [
    "df['Attrition'].value_counts()"
   ]
  },
  {
   "cell_type": "code",
   "execution_count": 16,
   "metadata": {},
   "outputs": [
    {
     "data": {
      "text/plain": [
       "ChangeCompanyRate[0.03; 2.2]     705\n",
       "ChangeCompanyRate[3.03; 5.2]     276\n",
       "ChangeCompanyRate[6.03; 7.25]    115\n",
       "ChangeCompanyRate[8.03; 9.25]     80\n",
       "Name: ChangeCompanyRate-Class, dtype: int64"
      ]
     },
     "execution_count": 16,
     "metadata": {},
     "output_type": "execute_result"
    }
   ],
   "source": [
    "df['ChangeCompanyRate-Class'].value_counts()"
   ]
  },
  {
   "cell_type": "code",
   "execution_count": 17,
   "metadata": {},
   "outputs": [
    {
     "data": {
      "text/plain": [
       "TotalWorkingYears[0; 10]     748\n",
       "TotalWorkingYears[11; 18]    238\n",
       "TotalWorkingYears[19; 31]    159\n",
       "TotalWorkingYears[32; 40]     31\n",
       "Name: TotalWorkingYears-Class, dtype: int64"
      ]
     },
     "execution_count": 17,
     "metadata": {},
     "output_type": "execute_result"
    }
   ],
   "source": [
    "df['TotalWorkingYears-Class'].value_counts()"
   ]
  },
  {
   "cell_type": "code",
   "execution_count": 18,
   "metadata": {},
   "outputs": [
    {
     "data": {
      "text/plain": [
       "Married     542\n",
       "Single      383\n",
       "Divorced    251\n",
       "Name: MaritalStatus, dtype: int64"
      ]
     },
     "execution_count": 18,
     "metadata": {},
     "output_type": "execute_result"
    }
   ],
   "source": [
    "df['MaritalStatus'].value_counts()"
   ]
  },
  {
   "cell_type": "code",
   "execution_count": 19,
   "metadata": {},
   "outputs": [
    {
     "data": {
      "text/plain": [
       "[3300, 1027, 414, 194, 93, 45, 26, 13, 6, 3, 2, 0, 0, 0, 0, 0, 0, 0]"
      ]
     },
     "execution_count": 19,
     "metadata": {},
     "output_type": "execute_result"
    }
   ],
   "source": [
    "n_itemsets=[]\n",
    "for support in range(10,100,5):\n",
    "    n_itemsets.append(len(apriori(baskets, target='a', supp=support, zmin=2, report='as')))\n",
    "\n",
    "n_itemsets\n",
    "\n",
    "#support in range (10,100)\n",
    "#zmin=2"
   ]
  },
  {
   "cell_type": "code",
   "execution_count": 20,
   "metadata": {},
   "outputs": [
    {
     "data": {
      "text/plain": [
       "[2812, 739, 237, 86, 29, 9, 4, 1, 0, 0, 0, 0, 0, 0, 0, 0, 0, 0]"
      ]
     },
     "execution_count": 20,
     "metadata": {},
     "output_type": "execute_result"
    }
   ],
   "source": [
    "n_itemsets=[]\n",
    "for support in range(10,100,5):\n",
    "    n_itemsets.append(len(apriori(baskets, target='a', supp=support, zmin=3, report='as')))\n",
    "\n",
    "n_itemsets\n",
    "\n",
    "#support in range (10,100)\n",
    "#zmin=3"
   ]
  },
  {
   "cell_type": "code",
   "execution_count": 21,
   "metadata": {},
   "outputs": [
    {
     "data": {
      "text/plain": [
       "[1481, 243, 46, 10, 1, 0, 0, 0, 0, 0, 0, 0, 0, 0, 0, 0, 0, 0]"
      ]
     },
     "execution_count": 21,
     "metadata": {},
     "output_type": "execute_result"
    }
   ],
   "source": [
    "n_itemsets=[]\n",
    "for support in range(10,100,5):\n",
    "    n_itemsets.append(len(apriori(baskets, target='a', supp=support, zmin=4, report='as')))\n",
    "\n",
    "n_itemsets\n",
    "\n",
    "#support in range (10,100)\n",
    "#zmin=4"
   ]
  },
  {
   "cell_type": "code",
   "execution_count": null,
   "metadata": {},
   "outputs": [],
   "source": []
  },
  {
   "cell_type": "markdown",
   "metadata": {},
   "source": [
    "# Maximal itemsets"
   ]
  },
  {
   "cell_type": "code",
   "execution_count": 22,
   "metadata": {},
   "outputs": [],
   "source": [
    "itemsets_max= apriori(baskets, target='m', supp=10, zmin=2, report='as')"
   ]
  },
  {
   "cell_type": "code",
   "execution_count": 23,
   "metadata": {
    "scrolled": false
   },
   "outputs": [
    {
     "data": {
      "text/plain": [
       "[(('Age[44.0; 51.0]', 'Tre_Performance'), 120, 0.10204081632653061),\n",
       " (('Age[44.0; 51.0]', 'No_Attrition'), 123, 0.10459183673469388),\n",
       " (('Quattro_Performance', 'No_Attrition'), 130, 0.11054421768707483),\n",
       " (('TotalWorkingYears[19; 31]', 'Travel_Rarely'), 119, 0.10119047619047619),\n",
       " (('TotalWorkingYears[19; 31]', 'Tre_Performance'), 119, 0.10119047619047619),\n",
       " (('TotalWorkingYears[19; 31]', 'No_Attrition'), 147, 0.125),\n",
       " (('Si_Attrition', 'LivelloZero'), 127, 0.10799319727891156),\n",
       " (('Si_Attrition', 'YearsInCurrentRole[0; 2]'), 126, 0.10714285714285714),\n",
       " (('Si_Attrition', 'TotalWorkingYears[0; 10]'), 147, 0.125),\n",
       " (('Si_Attrition', 'Tre_Performance'), 145, 0.12329931972789115)]"
      ]
     },
     "execution_count": 23,
     "metadata": {},
     "output_type": "execute_result"
    }
   ],
   "source": [
    "itemsets_max[0:10]"
   ]
  },
  {
   "cell_type": "code",
   "execution_count": 24,
   "metadata": {},
   "outputs": [
    {
     "data": {
      "text/plain": [
       "1357"
      ]
     },
     "execution_count": 24,
     "metadata": {},
     "output_type": "execute_result"
    }
   ],
   "source": [
    "len(itemsets_max)"
   ]
  },
  {
   "cell_type": "code",
   "execution_count": 25,
   "metadata": {},
   "outputs": [],
   "source": [
    "itemsets_max.sort(key=lambda x: x[1],reverse=True)"
   ]
  },
  {
   "cell_type": "code",
   "execution_count": 26,
   "metadata": {
    "scrolled": true
   },
   "outputs": [
    {
     "data": {
      "text/plain": [
       "[(('Satisfaction[12; 14]',\n",
       "   'Travel_Rarely',\n",
       "   'No_OverTime',\n",
       "   'Tre_Performance',\n",
       "   'No_Attrition'),\n",
       "  184,\n",
       "  0.1564625850340136),\n",
       " (('Married',\n",
       "   'Travel_Rarely',\n",
       "   'No_OverTime',\n",
       "   'Tre_Performance',\n",
       "   'No_Attrition'),\n",
       "  181,\n",
       "  0.15391156462585034),\n",
       " (('PercentSalaryHike[11; 13]', nan, 'No_OverTime', 'No_Attrition'),\n",
       "  177,\n",
       "  0.15051020408163265),\n",
       " (('Single', 'LivelloZero', 'No_OverTime', 'Tre_Performance', 'No_Attrition'),\n",
       "  175,\n",
       "  0.1488095238095238),\n",
       " ((nan,\n",
       "   'ChangeCompanyRate[0.03; 2.2]',\n",
       "   'TotalWorkingYears[0; 10]',\n",
       "   'No_OverTime',\n",
       "   'No_Attrition'),\n",
       "  174,\n",
       "  0.14795918367346939),\n",
       " (('Si_OverTime', 'Tre_Performance', 'No_Attrition'),\n",
       "  172,\n",
       "  0.14625850340136054),\n",
       " (('LivelloUno', 'Married', 'No_OverTime', 'Tre_Performance', 'No_Attrition'),\n",
       "  172,\n",
       "  0.14625850340136054),\n",
       " (('Life Sciences', nan, 'No_OverTime', 'No_Attrition'),\n",
       "  172,\n",
       "  0.14625850340136054),\n",
       " (('Satisfaction[12; 14]',\n",
       "   'TotalWorkingYears[0; 10]',\n",
       "   'No_OverTime',\n",
       "   'Tre_Performance',\n",
       "   'No_Attrition'),\n",
       "  172,\n",
       "  0.14625850340136054),\n",
       " (('DistanceFromHome[1; 6]',\n",
       "   'Travel_Rarely',\n",
       "   'No_OverTime',\n",
       "   'Tre_Performance',\n",
       "   'No_Attrition'),\n",
       "  171,\n",
       "  0.14540816326530612)]"
      ]
     },
     "execution_count": 26,
     "metadata": {},
     "output_type": "execute_result"
    }
   ],
   "source": [
    "itemsets_max[0:10]"
   ]
  },
  {
   "cell_type": "code",
   "execution_count": 27,
   "metadata": {},
   "outputs": [
    {
     "data": {
      "text/plain": [
       "[1357, 466, 205, 105, 56, 29, 18, 10, 6, 3, 2, 0, 0, 0, 0, 0, 0, 0]"
      ]
     },
     "execution_count": 27,
     "metadata": {},
     "output_type": "execute_result"
    }
   ],
   "source": [
    "n_itemsets=[]\n",
    "for support in range(10,100,5):\n",
    "    n_itemsets.append(len(apriori(baskets, target='m', supp=support, zmin=2, report='as')))\n",
    "\n",
    "n_itemsets\n",
    "\n",
    "#support in range (10,100)\n",
    "#zmin=2"
   ]
  },
  {
   "cell_type": "code",
   "execution_count": 28,
   "metadata": {},
   "outputs": [
    {
     "data": {
      "text/plain": [
       "[1277, 394, 154, 62, 25, 9, 4, 1, 0, 0, 0, 0, 0, 0, 0, 0, 0, 0]"
      ]
     },
     "execution_count": 28,
     "metadata": {},
     "output_type": "execute_result"
    }
   ],
   "source": [
    "n_itemsets=[]\n",
    "for support in range(10,100,5):\n",
    "    n_itemsets.append(len(apriori(baskets, target='m', supp=support, zmin=3, report='as')))\n",
    "\n",
    "n_itemsets\n",
    "\n",
    "#support in range (10,100)\n",
    "#zmin=3"
   ]
  },
  {
   "cell_type": "code",
   "execution_count": 29,
   "metadata": {},
   "outputs": [
    {
     "data": {
      "text/plain": [
       "[871, 190, 46, 10, 1, 0, 0, 0, 0, 0, 0, 0, 0, 0, 0, 0, 0, 0]"
      ]
     },
     "execution_count": 29,
     "metadata": {},
     "output_type": "execute_result"
    }
   ],
   "source": [
    "n_itemsets=[]\n",
    "for support in range(10,100,5):\n",
    "    n_itemsets.append(len(apriori(baskets, target='m', supp=support, zmin=4, report='as')))\n",
    "\n",
    "n_itemsets\n",
    "\n",
    "#support in range (10,100)\n",
    "#zmin=4"
   ]
  },
  {
   "cell_type": "code",
   "execution_count": null,
   "metadata": {},
   "outputs": [],
   "source": []
  },
  {
   "cell_type": "code",
   "execution_count": null,
   "metadata": {},
   "outputs": [],
   "source": []
  },
  {
   "cell_type": "code",
   "execution_count": null,
   "metadata": {},
   "outputs": [],
   "source": []
  },
  {
   "cell_type": "code",
   "execution_count": null,
   "metadata": {},
   "outputs": [],
   "source": []
  },
  {
   "cell_type": "markdown",
   "metadata": {},
   "source": [
    "# Closed itemsets"
   ]
  },
  {
   "cell_type": "code",
   "execution_count": 30,
   "metadata": {},
   "outputs": [],
   "source": [
    "itemsets_closed= apriori(baskets, target='c', supp=10, zmin=2, report='as')"
   ]
  },
  {
   "cell_type": "code",
   "execution_count": 31,
   "metadata": {},
   "outputs": [
    {
     "data": {
      "text/plain": [
       "[(('Age[44.0; 51.0]', 'Tre_Performance'), 120, 0.10204081632653061),\n",
       " (('Age[44.0; 51.0]', 'No_Attrition'), 123, 0.10459183673469388),\n",
       " (('Quattro_Performance', 'No_Attrition'), 130, 0.11054421768707483),\n",
       " (('TotalWorkingYears[19; 31]', 'Travel_Rarely'), 119, 0.10119047619047619),\n",
       " (('TotalWorkingYears[19; 31]', 'Tre_Performance'), 119, 0.10119047619047619),\n",
       " (('TotalWorkingYears[19; 31]', 'No_Attrition'), 147, 0.125),\n",
       " (('Si_Attrition', 'LivelloZero'), 127, 0.10799319727891156),\n",
       " (('Si_Attrition', 'YearsInCurrentRole[0; 2]'), 126, 0.10714285714285714),\n",
       " (('Si_Attrition', 'TotalWorkingYears[0; 10]'), 147, 0.125),\n",
       " (('Si_Attrition', 'Tre_Performance'), 145, 0.12329931972789115)]"
      ]
     },
     "execution_count": 31,
     "metadata": {},
     "output_type": "execute_result"
    }
   ],
   "source": [
    "itemsets_closed[0:10]"
   ]
  },
  {
   "cell_type": "code",
   "execution_count": 32,
   "metadata": {},
   "outputs": [
    {
     "data": {
      "text/plain": [
       "3209"
      ]
     },
     "execution_count": 32,
     "metadata": {},
     "output_type": "execute_result"
    }
   ],
   "source": [
    "len(itemsets_closed)"
   ]
  },
  {
   "cell_type": "code",
   "execution_count": 33,
   "metadata": {},
   "outputs": [],
   "source": [
    "itemsets_closed.sort(key=lambda x: x[1],reverse=True)"
   ]
  },
  {
   "cell_type": "code",
   "execution_count": 34,
   "metadata": {},
   "outputs": [
    {
     "data": {
      "text/plain": [
       "[(('No_OverTime', 'No_Attrition'), 749, 0.6369047619047619),\n",
       " (('Tre_Performance', 'No_Attrition'), 735, 0.625),\n",
       " (('Travel_Rarely', 'No_Attrition'), 648, 0.5510204081632653),\n",
       " (('No_OverTime', 'Tre_Performance'), 630, 0.5357142857142857),\n",
       " (('TotalWorkingYears[0; 10]', 'No_Attrition'), 601, 0.5110544217687075),\n",
       " (('ChangeCompanyRate[0.03; 2.2]', 'No_Attrition'), 592, 0.5034013605442177),\n",
       " (('Travel_Rarely', 'Tre_Performance'), 567, 0.48214285714285715),\n",
       " (('No_OverTime', 'Tre_Performance', 'No_Attrition'),\n",
       "  563,\n",
       "  0.47874149659863946),\n",
       " (('TotalWorkingYears[0; 10]', 'Tre_Performance'), 559, 0.47534013605442177),\n",
       " (('Male', 'No_Attrition'), 555, 0.4719387755102041)]"
      ]
     },
     "execution_count": 34,
     "metadata": {},
     "output_type": "execute_result"
    }
   ],
   "source": [
    "itemsets_closed[0:10]"
   ]
  },
  {
   "cell_type": "code",
   "execution_count": 35,
   "metadata": {},
   "outputs": [
    {
     "data": {
      "text/plain": [
       "[3209, 1007, 409, 194, 93, 45, 26, 13, 6, 3, 2, 0, 0, 0, 0, 0, 0, 0]"
      ]
     },
     "execution_count": 35,
     "metadata": {},
     "output_type": "execute_result"
    }
   ],
   "source": [
    "n_itemsets=[]\n",
    "for support in range(10,100,5):\n",
    "    n_itemsets.append(len(apriori(baskets, target='c', supp=support, zmin=2, report='as')))\n",
    "\n",
    "n_itemsets\n",
    "\n",
    "#support in range (10,100)\n",
    "#zmin=2"
   ]
  },
  {
   "cell_type": "code",
   "execution_count": 36,
   "metadata": {},
   "outputs": [
    {
     "data": {
      "text/plain": [
       "[2740, 730, 237, 86, 29, 9, 4, 1, 0, 0, 0, 0, 0, 0, 0, 0, 0, 0]"
      ]
     },
     "execution_count": 36,
     "metadata": {},
     "output_type": "execute_result"
    }
   ],
   "source": [
    "n_itemsets=[]\n",
    "for support in range(10,100,5):\n",
    "    n_itemsets.append(len(apriori(baskets, target='c', supp=support, zmin=3, report='as')))\n",
    "\n",
    "n_itemsets\n",
    "\n",
    "#support in range (10,100)\n",
    "#zmin=3"
   ]
  },
  {
   "cell_type": "code",
   "execution_count": 37,
   "metadata": {},
   "outputs": [
    {
     "data": {
      "text/plain": [
       "[1460, 243, 46, 10, 1, 0, 0, 0, 0, 0, 0, 0, 0, 0, 0, 0, 0, 0]"
      ]
     },
     "execution_count": 37,
     "metadata": {},
     "output_type": "execute_result"
    }
   ],
   "source": [
    "n_itemsets=[]\n",
    "for support in range(10,100,5):\n",
    "    n_itemsets.append(len(apriori(baskets, target='c', supp=support, zmin=4, report='as')))\n",
    "\n",
    "n_itemsets\n",
    "\n",
    "#support in range (10,100)\n",
    "#zmin=4"
   ]
  },
  {
   "cell_type": "code",
   "execution_count": null,
   "metadata": {},
   "outputs": [],
   "source": []
  },
  {
   "cell_type": "code",
   "execution_count": null,
   "metadata": {},
   "outputs": [],
   "source": []
  },
  {
   "cell_type": "markdown",
   "metadata": {},
   "source": [
    "# Association rules"
   ]
  },
  {
   "cell_type": "code",
   "execution_count": 40,
   "metadata": {},
   "outputs": [],
   "source": [
    "rules = apriori(baskets, supp=10, zmin=3, target='r', conf=60, \n",
    "                report='ascl') "
   ]
  },
  {
   "cell_type": "code",
   "execution_count": 41,
   "metadata": {},
   "outputs": [
    {
     "name": "stdout",
     "output_type": "stream",
     "text": [
      "Number of rule: 13932\n"
     ]
    }
   ],
   "source": [
    "print('Number of rule:', len(rules))"
   ]
  },
  {
   "cell_type": "code",
   "execution_count": 42,
   "metadata": {
    "scrolled": true
   },
   "outputs": [],
   "source": [
    "rules.sort(key=lambda x: x[4],reverse=True)"
   ]
  },
  {
   "cell_type": "code",
   "execution_count": 43,
   "metadata": {
    "scrolled": true
   },
   "outputs": [
    {
     "data": {
      "text/plain": [
       "[('LivelloZero',\n",
       "  ('Medical', 'Single'),\n",
       "  118,\n",
       "  0.10034013605442177,\n",
       "  1.0,\n",
       "  2.2879377431906613),\n",
       " ('LivelloZero',\n",
       "  ('Single', 'Age[33.0; 43.0]'),\n",
       "  130,\n",
       "  0.11054421768707483,\n",
       "  1.0,\n",
       "  2.2879377431906613),\n",
       " ('LivelloZero',\n",
       "  ('Single', 'PercentSalaryHike[14; 18]'),\n",
       "  150,\n",
       "  0.12755102040816327,\n",
       "  1.0,\n",
       "  2.2879377431906613),\n",
       " ('LivelloZero',\n",
       "  ('Single', 'Female'),\n",
       "  137,\n",
       "  0.11649659863945579,\n",
       "  1.0,\n",
       "  2.2879377431906613),\n",
       " ('LivelloZero',\n",
       "  ('Single', 'Bachelor', 'No_OverTime'),\n",
       "  119,\n",
       "  0.10119047619047619,\n",
       "  1.0,\n",
       "  2.2879377431906613)]"
      ]
     },
     "execution_count": 43,
     "metadata": {},
     "output_type": "execute_result"
    }
   ],
   "source": [
    "rules[0:5]"
   ]
  },
  {
   "cell_type": "code",
   "execution_count": 44,
   "metadata": {},
   "outputs": [],
   "source": [
    "rules_conf=[rule[4] for rule in rules ]\n",
    "rules_lift=[rule[5] for rule in rules ]\n",
    "\n",
    "rules_highlift=[]\n",
    "for rule in rules:\n",
    "    if(rule[5]>1.9):\n",
    "        rules_highlift.append(rule[5])"
   ]
  },
  {
   "cell_type": "code",
   "execution_count": 45,
   "metadata": {},
   "outputs": [
    {
     "data": {
      "text/plain": [
       "Text(0, 0.5, 'Num rules')"
      ]
     },
     "execution_count": 45,
     "metadata": {},
     "output_type": "execute_result"
    },
    {
     "data": {
      "image/png": "[encoded data removed]",
      "text/plain": [
       "<Figure size 864x576 with 1 Axes>"
      ]
     },
     "metadata": {
      "needs_background": "light"
     },
     "output_type": "display_data"
    }
   ],
   "source": [
    "plt.rc('font', size=25)          # controls default text sizes\n",
    "plt.rc('axes', titlesize=25)     # fontsize of the axes title\n",
    "plt.rc('axes', labelsize=25)    # fontsize of the x and y labels\n",
    "plt.rc('xtick', labelsize=25)    # fontsize of the tick labels\n",
    "plt.rc('ytick', labelsize=25)    # fontsize of the tick labels\n",
    "plt.rc('legend', fontsize=25)    # legend fontsize\n",
    "plt.rc('figure', titlesize=25)  # fontsize of the figure title\n",
    "plt.figure(figsize=(12, 8))\n",
    "plt.hist(rules_conf, bins=np.arange(0.60,1.01,0.025))\n",
    "plt.xlabel('Rules confidence')\n",
    "plt.ylabel('Num rules')"
   ]
  },
  {
   "cell_type": "code",
   "execution_count": 47,
   "metadata": {},
   "outputs": [
    {
     "data": {
      "text/plain": [
       "Text(0, 0.5, 'Num rules')"
      ]
     },
     "execution_count": 47,
     "metadata": {},
     "output_type": "execute_result"
    },
    {
     "data": {
      "image/png": "[encoded data removed]",
      "text/plain": [
       "<Figure size 864x576 with 1 Axes>"
      ]
     },
     "metadata": {
      "needs_background": "light"
     },
     "output_type": "display_data"
    }
   ],
   "source": [
    "plt.rc('font', size=25)          # controls default text sizes\n",
    "plt.rc('axes', titlesize=25)     # fontsize of the axes title\n",
    "plt.rc('axes', labelsize=25)    # fontsize of the x and y labels\n",
    "plt.rc('xtick', labelsize=25)    # fontsize of the tick labels\n",
    "plt.rc('ytick', labelsize=25)    # fontsize of the tick labels\n",
    "plt.rc('legend', fontsize=25)    # legend fontsize\n",
    "plt.rc('figure', titlesize=25)  # fontsize of the figure title\n",
    "plt.figure(figsize=(12, 8))\n",
    "plt.hist(rules_lift, bins=np.arange(0.5,3.5,0.05))\n",
    "plt.xlabel('Rules lift')\n",
    "plt.ylabel('Num rules')"
   ]
  },
  {
   "cell_type": "code",
   "execution_count": 49,
   "metadata": {},
   "outputs": [],
   "source": [
    "n_rules=[]\n",
    "for confidence in range(60,101,5):\n",
    "    n_rules.append(len(apriori(baskets, target='r', supp=10, zmin=3, conf=confidence, \n",
    "                               report='ascl')))\n",
    "\n",
    "\n",
    "conf= np.arange(60,101,5)"
   ]
  },
  {
   "cell_type": "code",
   "execution_count": 50,
   "metadata": {},
   "outputs": [
    {
     "data": {
      "image/png": "[encoded data removed]",
      "text/plain": [
       "<Figure size 864x576 with 1 Axes>"
      ]
     },
     "metadata": {
      "needs_background": "light"
     },
     "output_type": "display_data"
    }
   ],
   "source": [
    "plt.rc('font', size=25)          # controls default text sizes\n",
    "plt.rc('axes', titlesize=25)     # fontsize of the axes title\n",
    "plt.rc('axes', labelsize=25)    # fontsize of the x and y labels\n",
    "plt.rc('xtick', labelsize=25)    # fontsize of the tick labels\n",
    "plt.rc('ytick', labelsize=25)    # fontsize of the tick labels\n",
    "plt.rc('legend', fontsize=25)    # legend fontsize\n",
    "plt.rc('figure', titlesize=25)  # fontsize of the figure title\n",
    "plt.figure(figsize=(12, 8))\n",
    "plt.plot(conf, n_rules, color='steelblue', marker='o', linestyle='dashed', linewidth=2, markersize=12)\n",
    "plt.xlabel('min_conf')\n",
    "plt.ylabel('n_rules')\n",
    "for a,b in zip(conf, n_rules): \n",
    "    plt.text(a, b, '  '+str(b), fontsize=14)\n",
    "plt.show()"
   ]
  },
  {
   "cell_type": "code",
   "execution_count": null,
   "metadata": {},
   "outputs": [],
   "source": []
  },
  {
   "cell_type": "code",
   "execution_count": 57,
   "metadata": {},
   "outputs": [],
   "source": [
    "rules = apriori(baskets, supp=10, zmin=3, target='r', conf=80, \n",
    "                report='ascl') "
   ]
  },
  {
   "cell_type": "code",
   "execution_count": 58,
   "metadata": {},
   "outputs": [
    {
     "data": {
      "text/plain": [
       "2034"
      ]
     },
     "execution_count": 58,
     "metadata": {},
     "output_type": "execute_result"
    }
   ],
   "source": [
    "len(rules)"
   ]
  },
  {
   "cell_type": "code",
   "execution_count": 59,
   "metadata": {},
   "outputs": [
    {
     "data": {
      "text/plain": [
       "{'ChangeCompanyRate[0.03; 2.2]',\n",
       " 'LivelloZero',\n",
       " 'No_Attrition',\n",
       " 'No_OverTime',\n",
       " 'Single',\n",
       " 'TotalWorkingYears[0; 10]',\n",
       " 'Tre_Performance'}"
      ]
     },
     "execution_count": 59,
     "metadata": {},
     "output_type": "execute_result"
    }
   ],
   "source": [
    "rules_conseq=[rule[0] for rule in rules]\n",
    "set(rules_conseq)"
   ]
  },
  {
   "cell_type": "code",
   "execution_count": 60,
   "metadata": {},
   "outputs": [
    {
     "data": {
      "text/plain": [
       "('ChangeCompanyRate[0.03; 2.2]',\n",
       " ('YearsInCurrentRole[7; 10]', 'TotalWorkingYears[0; 10]'),\n",
       " 122,\n",
       " 0.10374149659863946,\n",
       " 0.8531468531468531,\n",
       " 1.423121559291772)"
      ]
     },
     "execution_count": 60,
     "metadata": {},
     "output_type": "execute_result"
    }
   ],
   "source": [
    "rules_company=[]\n",
    "for rule in rules:\n",
    "    if (rule[0]=='ChangeCompanyRate[0.03; 2.2]'):\n",
    "        rules_company.append(rule)\n",
    "        \n",
    "rules_company.sort(key=lambda x: x[5],reverse=True)\n",
    "rules_company[0]"
   ]
  },
  {
   "cell_type": "code",
   "execution_count": 67,
   "metadata": {},
   "outputs": [
    {
     "data": {
      "text/plain": [
       "('LivelloZero',\n",
       " ('Single', 'No_Attrition'),\n",
       " 284,\n",
       " 0.24149659863945577,\n",
       " 1.0,\n",
       " 2.2879377431906613)"
      ]
     },
     "execution_count": 67,
     "metadata": {},
     "output_type": "execute_result"
    }
   ],
   "source": [
    "rules_livello=[]\n",
    "for rule in rules:\n",
    "    if (rule[0]=='LivelloZero'):\n",
    "        rules_livello.append(rule)\n",
    "        \n",
    "rules_livello.sort(key=lambda x: x[2],reverse=True)\n",
    "rules_livello[0]"
   ]
  },
  {
   "cell_type": "code",
   "execution_count": 68,
   "metadata": {},
   "outputs": [
    {
     "data": {
      "text/plain": [
       "LivelloZero    514\n",
       "LivelloUno     470\n",
       "LivelloDue     125\n",
       "LivelloTre      67\n",
       "Name: StockOptionLevel, dtype: int64"
      ]
     },
     "execution_count": 68,
     "metadata": {},
     "output_type": "execute_result"
    }
   ],
   "source": [
    "df['StockOptionLevel'].value_counts()\n",
    "#Single... => LivelloZero"
   ]
  },
  {
   "cell_type": "code",
   "execution_count": 72,
   "metadata": {},
   "outputs": [
    {
     "data": {
      "text/plain": [
       "No_OverTime    838\n",
       "Si_OverTime    338\n",
       "Name: OverTime, dtype: int64"
      ]
     },
     "execution_count": 72,
     "metadata": {},
     "output_type": "execute_result"
    }
   ],
   "source": [
    "df['OverTime'].value_counts()"
   ]
  },
  {
   "cell_type": "code",
   "execution_count": 73,
   "metadata": {},
   "outputs": [
    {
     "data": {
      "text/plain": [
       "('No_OverTime',\n",
       " ('YearsInCurrentRole[0; 2]',\n",
       "  'Satisfaction[12; 14]',\n",
       "  'TotalWorkingYears[0; 10]',\n",
       "  'No_Attrition'),\n",
       " 138,\n",
       " 0.11734693877551021,\n",
       " 0.8679245283018868,\n",
       " 1.2179943261133876)"
      ]
     },
     "execution_count": 73,
     "metadata": {},
     "output_type": "execute_result"
    }
   ],
   "source": [
    "rules_overtime=[]\n",
    "for rule in rules:\n",
    "    if (rule[0]=='No_OverTime'):\n",
    "        rules_overtime.append(rule)\n",
    "        \n",
    "rules_overtime.sort(key=lambda x: x[5],reverse=True)\n",
    "rules_overtime[1]"
   ]
  },
  {
   "cell_type": "code",
   "execution_count": 74,
   "metadata": {},
   "outputs": [
    {
     "data": {
      "text/plain": [
       "TotalWorkingYears[0; 10]     748\n",
       "TotalWorkingYears[11; 18]    238\n",
       "TotalWorkingYears[19; 31]    159\n",
       "TotalWorkingYears[32; 40]     31\n",
       "Name: TotalWorkingYears-Class, dtype: int64"
      ]
     },
     "execution_count": 74,
     "metadata": {},
     "output_type": "execute_result"
    }
   ],
   "source": [
    "df['TotalWorkingYears-Class'].value_counts()"
   ]
  },
  {
   "cell_type": "code",
   "execution_count": 75,
   "metadata": {},
   "outputs": [
    {
     "data": {
      "text/plain": [
       "YearsInCurrentRole[0; 2]      547\n",
       "YearsInCurrentRole[7; 10]     323\n",
       "YearsInCurrentRole[3; 6]      246\n",
       "YearsInCurrentRole[11; 13]     33\n",
       "YearsInCurrentRole[14; 18]     27\n",
       "Name: YearsInCurrentRole-Class, dtype: int64"
      ]
     },
     "execution_count": 75,
     "metadata": {},
     "output_type": "execute_result"
    }
   ],
   "source": [
    "df['YearsInCurrentRole-Class'].value_counts()"
   ]
  },
  {
   "cell_type": "code",
   "execution_count": 76,
   "metadata": {},
   "outputs": [
    {
     "data": {
      "text/plain": [
       "Satisfaction[12; 14]    574\n",
       "Satisfaction[15; 16]    316\n",
       "Satisfaction[10; 11]    147\n",
       "Satisfaction[17; 20]    100\n",
       "Satisfaction[6; 9]       39\n",
       "Name: Satisfaction-Class, dtype: int64"
      ]
     },
     "execution_count": 76,
     "metadata": {},
     "output_type": "execute_result"
    }
   ],
   "source": [
    "df['Satisfaction-Class'].value_counts()"
   ]
  },
  {
   "cell_type": "code",
   "execution_count": 77,
   "metadata": {},
   "outputs": [
    {
     "data": {
      "text/plain": [
       "Tre_Performance        880\n",
       "Quattro_Performance    158\n",
       "Name: PerformanceRating, dtype: int64"
      ]
     },
     "execution_count": 77,
     "metadata": {},
     "output_type": "execute_result"
    }
   ],
   "source": [
    "df['PerformanceRating'].value_counts()"
   ]
  },
  {
   "cell_type": "code",
   "execution_count": 80,
   "metadata": {
    "scrolled": true
   },
   "outputs": [
    {
     "data": {
      "text/plain": [
       "('Single',\n",
       " ('LivelloZero',\n",
       "  'ChangeCompanyRate[0.03; 2.2]',\n",
       "  'TotalWorkingYears[0; 10]',\n",
       "  'No_OverTime'),\n",
       " 134,\n",
       " 0.11394557823129252,\n",
       " 0.8072289156626506,\n",
       " 2.4785932240712194)"
      ]
     },
     "execution_count": 80,
     "metadata": {},
     "output_type": "execute_result"
    }
   ],
   "source": [
    "rules_single=[]\n",
    "for rule in rules:\n",
    "    if (rule[0]=='Single'):\n",
    "        rules_single.append(rule)\n",
    "        \n",
    "rules_single.sort(key=lambda x: x[5],reverse=True)\n",
    "rules_single[5]"
   ]
  },
  {
   "cell_type": "code",
   "execution_count": 82,
   "metadata": {},
   "outputs": [
    {
     "data": {
      "text/plain": [
       "('TotalWorkingYears[0; 10]',\n",
       " ('YearsInCurrentRole[0; 2]',\n",
       "  'Satisfaction[12; 14]',\n",
       "  'ChangeCompanyRate[0.03; 2.2]'),\n",
       " 134,\n",
       " 0.11394557823129252,\n",
       " 0.9054054054054054,\n",
       " 1.423471599942188)"
      ]
     },
     "execution_count": 82,
     "metadata": {},
     "output_type": "execute_result"
    }
   ],
   "source": [
    "rules_years=[]\n",
    "for rule in rules:\n",
    "    if (rule[0]=='TotalWorkingYears[0; 10]'):\n",
    "        rules_years.append(rule)\n",
    "        \n",
    "rules_years.sort(key=lambda x: x[5],reverse=True)\n",
    "rules_years[1]"
   ]
  },
  {
   "cell_type": "code",
   "execution_count": 85,
   "metadata": {},
   "outputs": [
    {
     "data": {
      "text/plain": [
       "[('Tre_Performance',\n",
       "  ('Satisfaction[15; 16]',\n",
       "   'TotalWorkingYears[0; 10]',\n",
       "   'Travel_Rarely',\n",
       "   'No_Attrition'),\n",
       "  101,\n",
       "  0.0858843537414966,\n",
       "  0.8416666666666667,\n",
       "  1.1247727272727273),\n",
       " ('Tre_Performance',\n",
       "  ('Satisfaction[15; 16]', 'PercentSalaryHike[14; 18]', 'No_Attrition'),\n",
       "  100,\n",
       "  0.08503401360544217,\n",
       "  0.8403361344537815,\n",
       "  1.1229946524064172),\n",
       " ('Tre_Performance',\n",
       "  ('PercentSalaryHike[14; 18]', 'Married', 'Travel_Rarely'),\n",
       "  108,\n",
       "  0.09183673469387756,\n",
       "  0.8372093023255814,\n",
       "  1.118816067653277),\n",
       " ('Tre_Performance',\n",
       "  ('Satisfaction[15; 16]',\n",
       "   'TotalWorkingYears[0; 10]',\n",
       "   'No_OverTime',\n",
       "   'No_Attrition'),\n",
       "  107,\n",
       "  0.09098639455782313,\n",
       "  0.8359375,\n",
       "  1.1171164772727273),\n",
       " ('Tre_Performance',\n",
       "  ('Satisfaction[15; 16]', 'No_OverTime', 'No_Attrition'),\n",
       "  164,\n",
       "  0.13945578231292516,\n",
       "  0.8324873096446701,\n",
       "  1.1125057683433317)]"
      ]
     },
     "execution_count": 85,
     "metadata": {},
     "output_type": "execute_result"
    }
   ],
   "source": [
    "rules_perf=[]\n",
    "for rule in rules:\n",
    "    if (rule[0]=='Tre_Performance'):\n",
    "        rules_perf.append(rule)\n",
    "        \n",
    "rules_perf.sort(key=lambda x: x[5],reverse=True)\n",
    "rules_perf[0:5]"
   ]
  },
  {
   "cell_type": "code",
   "execution_count": null,
   "metadata": {},
   "outputs": [],
   "source": []
  },
  {
   "cell_type": "code",
   "execution_count": null,
   "metadata": {},
   "outputs": [],
   "source": []
  },
  {
   "cell_type": "code",
   "execution_count": null,
   "metadata": {},
   "outputs": [],
   "source": []
  },
  {
   "cell_type": "code",
   "execution_count": null,
   "metadata": {},
   "outputs": [],
   "source": []
  },
  {
   "cell_type": "code",
   "execution_count": 274,
   "metadata": {},
   "outputs": [],
   "source": []
  },
  {
   "cell_type": "code",
   "execution_count": null,
   "metadata": {},
   "outputs": [],
   "source": []
  },
  {
   "cell_type": "code",
   "execution_count": null,
   "metadata": {},
   "outputs": [],
   "source": []
  },
  {
   "cell_type": "code",
   "execution_count": null,
   "metadata": {},
   "outputs": [],
   "source": []
  },
  {
   "cell_type": "code",
   "execution_count": null,
   "metadata": {},
   "outputs": [],
   "source": []
  },
  {
   "cell_type": "code",
   "execution_count": null,
   "metadata": {},
   "outputs": [],
   "source": []
  },
  {
   "cell_type": "code",
   "execution_count": 222,
   "metadata": {},
   "outputs": [
    {
     "name": "stdout",
     "output_type": "stream",
     "text": [
      "<class 'pandas.core.frame.DataFrame'>\n",
      "RangeIndex: 1176 entries, 0 to 1175\n",
      "Data columns (total 19 columns):\n",
      " #   Column                    Non-Null Count  Dtype \n",
      "---  ------                    --------------  ----- \n",
      " 0   Attrition                 1176 non-null   object\n",
      " 1   BusinessTravel            1069 non-null   object\n",
      " 2   Education                 1176 non-null   object\n",
      " 3   EducationField            1176 non-null   object\n",
      " 4   Gender                    1117 non-null   object\n",
      " 5   JobRole                   1176 non-null   object\n",
      " 6   MaritalStatus             1176 non-null   object\n",
      " 7   OverTime                  1176 non-null   object\n",
      " 8   PerformanceRating         1038 non-null   object\n",
      " 9   StockOptionLevel          1176 non-null   object\n",
      " 10  TrainingTimesLastYear     943 non-null    object\n",
      " 11  Satisfaction-Class        1176 non-null   object\n",
      " 12  ChangeCompanyRate-Class   1176 non-null   object\n",
      " 13  YearsInCurrentRole-Class  1176 non-null   object\n",
      " 14  TotalWorkingYears-Class   1176 non-null   object\n",
      " 15  PercentSalaryHike-Class   1176 non-null   object\n",
      " 16  DistanceFromHome-Class    1176 non-null   object\n",
      " 17  Age-Class                 1000 non-null   object\n",
      " 18  MonthlyIncome-Class       963 non-null    object\n",
      "dtypes: object(19)\n",
      "memory usage: 174.7+ KB\n"
     ]
    }
   ],
   "source": [
    "df.info()"
   ]
  },
  {
   "cell_type": "code",
   "execution_count": 86,
   "metadata": {},
   "outputs": [],
   "source": [
    "rules = apriori(baskets, supp=5, zmin=3, target='r', conf=80, \n",
    "                report='ascl') "
   ]
  },
  {
   "cell_type": "code",
   "execution_count": 87,
   "metadata": {},
   "outputs": [
    {
     "data": {
      "text/plain": [
       "Travel_Rarely        764\n",
       "Travel_Frequently    192\n",
       "Non-Travel           113\n",
       "Name: BusinessTravel, dtype: int64"
      ]
     },
     "execution_count": 87,
     "metadata": {},
     "output_type": "execute_result"
    }
   ],
   "source": [
    "df['BusinessTravel'].value_counts()"
   ]
  },
  {
   "cell_type": "code",
   "execution_count": 88,
   "metadata": {},
   "outputs": [],
   "source": [
    "rules_travel=[]\n",
    "for rule in rules:\n",
    "    if(rule[0]=='Travel_Rarely'):\n",
    "        rules_travel.append(rule)"
   ]
  },
  {
   "cell_type": "code",
   "execution_count": 89,
   "metadata": {
    "scrolled": true
   },
   "outputs": [
    {
     "data": {
      "text/plain": [
       "('Travel_Rarely',\n",
       " ('Bachelor',\n",
       "  'LivelloUno',\n",
       "  'Satisfaction[12; 14]',\n",
       "  'Tre_Performance',\n",
       "  'No_Attrition'),\n",
       " 51,\n",
       " 0.04336734693877551,\n",
       " 0.85,\n",
       " 1.3083769633507853)"
      ]
     },
     "execution_count": 89,
     "metadata": {},
     "output_type": "execute_result"
    }
   ],
   "source": [
    "rules_travel.sort(key=lambda x: x[5],reverse=True)\n",
    "rules_travel[0]"
   ]
  },
  {
   "cell_type": "code",
   "execution_count": 92,
   "metadata": {},
   "outputs": [
    {
     "data": {
      "text/plain": [
       "False    1071\n",
       "True      105\n",
       "Name: BusinessTravel, dtype: int64"
      ]
     },
     "execution_count": 92,
     "metadata": {},
     "output_type": "execute_result"
    }
   ],
   "source": [
    "df['BusinessTravel'].isna().value_counts()"
   ]
  },
  {
   "cell_type": "code",
   "execution_count": 91,
   "metadata": {},
   "outputs": [],
   "source": [
    "i=0\n",
    "for b in baskets:\n",
    "    if(all(elem in b for elem in ['Bachelor','LivelloUno','Satisfaction[12; 14]','Tre_Performance','No_Attrition'])):\n",
    "        df['BusinessTravel'][i]='Travel_Rarely'\n",
    "    i=i+1"
   ]
  },
  {
   "cell_type": "code",
   "execution_count": 229,
   "metadata": {},
   "outputs": [
    {
     "data": {
      "text/plain": [
       "True"
      ]
     },
     "execution_count": 229,
     "metadata": {},
     "output_type": "execute_result"
    }
   ],
   "source": [
    "all(elem in baskets[0] for elem in ['No_Attrition','Travel_Rarely'])"
   ]
  },
  {
   "cell_type": "code",
   "execution_count": null,
   "metadata": {},
   "outputs": [],
   "source": []
  },
  {
   "cell_type": "code",
   "execution_count": 93,
   "metadata": {},
   "outputs": [],
   "source": [
    "rules = apriori(baskets, supp=5, zmin=3, target='r', conf=60, \n",
    "                report='ascl') "
   ]
  },
  {
   "cell_type": "code",
   "execution_count": 111,
   "metadata": {},
   "outputs": [
    {
     "data": {
      "text/plain": [
       "False    1122\n",
       "True       54\n",
       "Name: Gender, dtype: int64"
      ]
     },
     "execution_count": 111,
     "metadata": {},
     "output_type": "execute_result"
    }
   ],
   "source": [
    "df['Gender'].isna().value_counts()"
   ]
  },
  {
   "cell_type": "code",
   "execution_count": 107,
   "metadata": {},
   "outputs": [],
   "source": [
    "rules_male=[]\n",
    "for rule in rules:\n",
    "    if(rule[0]=='Male'):\n",
    "        rules_male.append(rule)"
   ]
  },
  {
   "cell_type": "code",
   "execution_count": 108,
   "metadata": {},
   "outputs": [
    {
     "data": {
      "text/plain": [
       "('Male',\n",
       " ('Sales Executive', 'LivelloZero', 'ChangeCompanyRate[0.03; 2.2]'),\n",
       " 50,\n",
       " 0.04251700680272109,\n",
       " 0.8064516129032258,\n",
       " 1.4282938204430626)"
      ]
     },
     "execution_count": 108,
     "metadata": {},
     "output_type": "execute_result"
    }
   ],
   "source": [
    "rules_male.sort(key=lambda x: x[5],reverse=True)\n",
    "rules_male[0]"
   ]
  },
  {
   "cell_type": "code",
   "execution_count": 109,
   "metadata": {},
   "outputs": [],
   "source": [
    "i=0\n",
    "for b in baskets:\n",
    "    if(all(elem in b for elem in [\n",
    "  'Sales Executive', 'LivelloZero', 'ChangeCompanyRate[0.03; 2.2]'])):\n",
    "        df['Gender'][i]='Male'\n",
    "    i=i+1"
   ]
  },
  {
   "cell_type": "code",
   "execution_count": 110,
   "metadata": {},
   "outputs": [],
   "source": [
    "rules_female=[]\n",
    "for rule in rules:\n",
    "    if(rule[0]=='Female'):\n",
    "        rules_female.append(rule)"
   ]
  },
  {
   "cell_type": "code",
   "execution_count": 100,
   "metadata": {},
   "outputs": [
    {
     "data": {
      "text/plain": [
       "[('Female',\n",
       "  ('Master',\n",
       "   'DistanceFromHome[1; 6]',\n",
       "   'ChangeCompanyRate[0.03; 2.2]',\n",
       "   'No_Attrition'),\n",
       "  38,\n",
       "  0.03231292517006803,\n",
       "  0.6129032258064516,\n",
       "  1.5911130100405897),\n",
       " ('Female',\n",
       "  ('Master',\n",
       "   'Satisfaction[12; 14]',\n",
       "   'Travel_Rarely',\n",
       "   'Tre_Performance',\n",
       "   'No_Attrition'),\n",
       "  37,\n",
       "  0.031462585034013606,\n",
       "  0.6065573770491803,\n",
       "  1.5746390185647596)]"
      ]
     },
     "execution_count": 100,
     "metadata": {},
     "output_type": "execute_result"
    }
   ],
   "source": [
    "rules_female.sort(key=lambda x: x[5],reverse=True)\n",
    "rules_female[0:2]"
   ]
  },
  {
   "cell_type": "code",
   "execution_count": null,
   "metadata": {},
   "outputs": [],
   "source": []
  },
  {
   "cell_type": "code",
   "execution_count": null,
   "metadata": {},
   "outputs": [],
   "source": []
  },
  {
   "cell_type": "code",
   "execution_count": 112,
   "metadata": {},
   "outputs": [],
   "source": [
    "rules = apriori(baskets, supp=5, zmin=3, target='r', conf=80, \n",
    "                report='ascl') "
   ]
  },
  {
   "cell_type": "code",
   "execution_count": 118,
   "metadata": {},
   "outputs": [
    {
     "data": {
      "text/plain": [
       "False    1049\n",
       "True      127\n",
       "Name: PerformanceRating, dtype: int64"
      ]
     },
     "execution_count": 118,
     "metadata": {},
     "output_type": "execute_result"
    }
   ],
   "source": [
    "df['PerformanceRating'].isna().value_counts()"
   ]
  },
  {
   "cell_type": "code",
   "execution_count": 114,
   "metadata": {},
   "outputs": [
    {
     "data": {
      "text/plain": [
       "Tre_Performance        880\n",
       "Quattro_Performance    158\n",
       "Name: PerformanceRating, dtype: int64"
      ]
     },
     "execution_count": 114,
     "metadata": {},
     "output_type": "execute_result"
    }
   ],
   "source": [
    "df['PerformanceRating'].value_counts()"
   ]
  },
  {
   "cell_type": "code",
   "execution_count": 115,
   "metadata": {},
   "outputs": [],
   "source": [
    "rules_performance=[]\n",
    "for rule in rules:\n",
    "    if(rule[0]=='Tre_Performance'):\n",
    "        rules_performance.append(rule)"
   ]
  },
  {
   "cell_type": "code",
   "execution_count": 116,
   "metadata": {
    "scrolled": true
   },
   "outputs": [
    {
     "data": {
      "text/plain": [
       "[('Tre_Performance',\n",
       "  ('Research Scientist', 'Life Sciences', 'YearsInCurrentRole[0; 2]'),\n",
       "  58,\n",
       "  0.04931972789115646,\n",
       "  0.90625,\n",
       "  1.2110795454545455)]"
      ]
     },
     "execution_count": 116,
     "metadata": {},
     "output_type": "execute_result"
    }
   ],
   "source": [
    "rules_performance.sort(key=lambda x: x[5],reverse=True)\n",
    "rules_performance[0:1]"
   ]
  },
  {
   "cell_type": "code",
   "execution_count": 117,
   "metadata": {},
   "outputs": [],
   "source": [
    "i=0\n",
    "for b in baskets:\n",
    "    if(all(elem in b for elem in ['Satisfaction[15; 16]',\n",
    "  'TotalWorkingYears[0; 10]',\n",
    "  'Travel_Rarely',\n",
    "  'No_Attrition'])):\n",
    "        df['PerformanceRating'][i]='Tre_Performance'\n",
    "    i=i+1"
   ]
  },
  {
   "cell_type": "code",
   "execution_count": null,
   "metadata": {},
   "outputs": [],
   "source": []
  },
  {
   "cell_type": "code",
   "execution_count": null,
   "metadata": {},
   "outputs": [],
   "source": []
  },
  {
   "cell_type": "code",
   "execution_count": 119,
   "metadata": {},
   "outputs": [],
   "source": [
    "rules = apriori(baskets, supp=5, zmin=3, target='r', conf=60, \n",
    "                report='ascl')"
   ]
  },
  {
   "cell_type": "code",
   "execution_count": 120,
   "metadata": {},
   "outputs": [
    {
     "data": {
      "text/plain": [
       "Due_Training        339\n",
       "Tre_Training        326\n",
       "Quattro_Training     82\n",
       "Cinque_Training      82\n",
       "Uno_Training         44\n",
       "Sei_Training         38\n",
       "Zero_Training        32\n",
       "Name: TrainingTimesLastYear, dtype: int64"
      ]
     },
     "execution_count": 120,
     "metadata": {},
     "output_type": "execute_result"
    }
   ],
   "source": [
    "df['TrainingTimesLastYear'].value_counts()"
   ]
  },
  {
   "cell_type": "code",
   "execution_count": 121,
   "metadata": {},
   "outputs": [],
   "source": [
    "rules_traintime=[]\n",
    "for rule in rules:\n",
    "    if(rule[0]=='Tre_Training'):\n",
    "        rules_traintime.append(rule)"
   ]
  },
  {
   "cell_type": "code",
   "execution_count": 122,
   "metadata": {},
   "outputs": [
    {
     "data": {
      "text/plain": [
       "[]"
      ]
     },
     "execution_count": 122,
     "metadata": {},
     "output_type": "execute_result"
    }
   ],
   "source": [
    "rules_traintime.sort(key=lambda x: x[5],reverse=True)\n",
    "rules_traintime[0:5]"
   ]
  },
  {
   "cell_type": "code",
   "execution_count": null,
   "metadata": {},
   "outputs": [],
   "source": []
  },
  {
   "cell_type": "code",
   "execution_count": null,
   "metadata": {},
   "outputs": [],
   "source": []
  },
  {
   "cell_type": "code",
   "execution_count": null,
   "metadata": {},
   "outputs": [],
   "source": []
  },
  {
   "cell_type": "code",
   "execution_count": 138,
   "metadata": {},
   "outputs": [],
   "source": [
    "rules = apriori(baskets, supp=5, zmin=3, target='r', conf=60, \n",
    "                report='ascl')"
   ]
  },
  {
   "cell_type": "code",
   "execution_count": 139,
   "metadata": {},
   "outputs": [
    {
     "data": {
      "text/plain": [
       "MonthlyIncome[1009.0; 6244.0]      617\n",
       "MonthlyIncome[9547.0; 14411.0]     130\n",
       "MonthlyIncome[6272.0; 9419.0]      127\n",
       "MonthlyIncome[14814.0; 19999.0]     89\n",
       "Name: MonthlyIncome-Class, dtype: int64"
      ]
     },
     "execution_count": 139,
     "metadata": {},
     "output_type": "execute_result"
    }
   ],
   "source": [
    "df['MonthlyIncome-Class'].value_counts()"
   ]
  },
  {
   "cell_type": "code",
   "execution_count": 140,
   "metadata": {},
   "outputs": [],
   "source": [
    "rules_income=[]\n",
    "for rule in rules:\n",
    "    if(rule[0]=='MonthlyIncome[1009.0; 6244.0]'):\n",
    "        rules_income.append(rule)"
   ]
  },
  {
   "cell_type": "code",
   "execution_count": 141,
   "metadata": {},
   "outputs": [
    {
     "data": {
      "text/plain": [
       "[('MonthlyIncome[1009.0; 6244.0]',\n",
       "  ('Age[25.0; 32.0]',\n",
       "   'YearsInCurrentRole[0; 2]',\n",
       "   'ChangeCompanyRate[0.03; 2.2]',\n",
       "   'Tre_Performance'),\n",
       "  48,\n",
       "  0.04081632653061224,\n",
       "  0.8135593220338984,\n",
       "  1.5506414306513199)]"
      ]
     },
     "execution_count": 141,
     "metadata": {},
     "output_type": "execute_result"
    }
   ],
   "source": [
    "rules_income.sort(key=lambda x: x[5],reverse=True)\n",
    "rules_income[0:1]"
   ]
  },
  {
   "cell_type": "code",
   "execution_count": 127,
   "metadata": {},
   "outputs": [],
   "source": [
    "rules_income=[]\n",
    "for rule in rules:\n",
    "    if(rule[0]=='MonthlyIncome[14814.0; 19999.0]'):\n",
    "        rules_income.append(rule)"
   ]
  },
  {
   "cell_type": "code",
   "execution_count": 128,
   "metadata": {},
   "outputs": [
    {
     "data": {
      "text/plain": [
       "[]"
      ]
     },
     "execution_count": 128,
     "metadata": {},
     "output_type": "execute_result"
    }
   ],
   "source": [
    "rules_income.sort(key=lambda x: x[5],reverse=True)\n",
    "rules_income[0:5]"
   ]
  },
  {
   "cell_type": "code",
   "execution_count": 145,
   "metadata": {},
   "outputs": [
    {
     "data": {
      "text/plain": [
       "False    969\n",
       "True     207\n",
       "Name: MonthlyIncome-Class, dtype: int64"
      ]
     },
     "execution_count": 145,
     "metadata": {},
     "output_type": "execute_result"
    }
   ],
   "source": [
    "df['MonthlyIncome-Class'].isna().value_counts()"
   ]
  },
  {
   "cell_type": "code",
   "execution_count": 144,
   "metadata": {},
   "outputs": [],
   "source": [
    "i=0\n",
    "for b in baskets:\n",
    "    if(all(elem in b for elem in ['Age[25.0; 32.0]',\n",
    "   'YearsInCurrentRole[0; 2]',\n",
    "   'ChangeCompanyRate[0.03; 2.2]',\n",
    "   'Tre_Performance'])):\n",
    "        df['MonthlyIncome-Class'][i]='MonthlyIncome[1009.0; 6244.0]'\n",
    "    i=i+1"
   ]
  },
  {
   "cell_type": "code",
   "execution_count": null,
   "metadata": {},
   "outputs": [],
   "source": []
  },
  {
   "cell_type": "code",
   "execution_count": null,
   "metadata": {},
   "outputs": [],
   "source": []
  },
  {
   "cell_type": "code",
   "execution_count": null,
   "metadata": {},
   "outputs": [],
   "source": []
  },
  {
   "cell_type": "code",
   "execution_count": 146,
   "metadata": {},
   "outputs": [],
   "source": [
    "rules = apriori(baskets, supp=5, zmin=3, target='r', conf=60, \n",
    "                report='ascl')"
   ]
  },
  {
   "cell_type": "code",
   "execution_count": 147,
   "metadata": {},
   "outputs": [
    {
     "data": {
      "text/plain": [
       "Age[33.0; 43.0]    413\n",
       "Age[25.0; 32.0]    290\n",
       "Age[44.0; 51.0]    153\n",
       "Age[52.0; 60.0]     87\n",
       "Age[18.0; 24.0]     57\n",
       "Name: Age-Class, dtype: int64"
      ]
     },
     "execution_count": 147,
     "metadata": {},
     "output_type": "execute_result"
    }
   ],
   "source": [
    "df['Age-Class'].value_counts()"
   ]
  },
  {
   "cell_type": "code",
   "execution_count": 148,
   "metadata": {},
   "outputs": [],
   "source": [
    "rules_age=[]\n",
    "for rule in rules:\n",
    "    if(rule[0]=='Age[44.0; 51.0]'):\n",
    "        rules_age.append(rule)"
   ]
  },
  {
   "cell_type": "code",
   "execution_count": 149,
   "metadata": {},
   "outputs": [
    {
     "data": {
      "text/plain": [
       "[]"
      ]
     },
     "execution_count": 149,
     "metadata": {},
     "output_type": "execute_result"
    }
   ],
   "source": [
    "rules_age.sort(key=lambda x: x[5],reverse=True)\n",
    "rules_age[0:5]"
   ]
  },
  {
   "cell_type": "code",
   "execution_count": null,
   "metadata": {},
   "outputs": [],
   "source": []
  },
  {
   "cell_type": "code",
   "execution_count": null,
   "metadata": {},
   "outputs": [],
   "source": []
  },
  {
   "cell_type": "code",
   "execution_count": 150,
   "metadata": {},
   "outputs": [
    {
     "data": {
      "text/plain": [
       "No_Attrition    984\n",
       "Si_Attrition    192\n",
       "Name: Attrition, dtype: int64"
      ]
     },
     "execution_count": 150,
     "metadata": {},
     "output_type": "execute_result"
    }
   ],
   "source": [
    "df['Attrition'].value_counts()"
   ]
  },
  {
   "cell_type": "code",
   "execution_count": 151,
   "metadata": {},
   "outputs": [],
   "source": [
    "rules = apriori(baskets, supp=5, zmin=3, target='r', conf=50, \n",
    "                report='ascl')"
   ]
  },
  {
   "cell_type": "code",
   "execution_count": 152,
   "metadata": {},
   "outputs": [],
   "source": [
    "rules_attr=[]\n",
    "for rule in rules:\n",
    "    if(rule[0]=='Si_Attrition'):\n",
    "        rules_attr.append(rule)"
   ]
  },
  {
   "cell_type": "code",
   "execution_count": 153,
   "metadata": {
    "scrolled": true
   },
   "outputs": [
    {
     "data": {
      "text/plain": [
       "[('Si_Attrition',\n",
       "  ('Si_OverTime',\n",
       "   'LivelloZero',\n",
       "   'YearsInCurrentRole[0; 2]',\n",
       "   'TotalWorkingYears[0; 10]'),\n",
       "  36,\n",
       "  0.030612244897959183,\n",
       "  0.5901639344262295,\n",
       "  3.6147540983606556),\n",
       " ('Si_Attrition',\n",
       "  ('Si_OverTime', 'LivelloZero', nan, 'Tre_Performance'),\n",
       "  34,\n",
       "  0.02891156462585034,\n",
       "  0.5573770491803278,\n",
       "  3.4139344262295084),\n",
       " ('Si_Attrition',\n",
       "  ('Si_OverTime', 'Single', 'LivelloZero', 'Tre_Performance'),\n",
       "  40,\n",
       "  0.034013605442176874,\n",
       "  0.5555555555555556,\n",
       "  3.4027777777777777),\n",
       " ('Si_Attrition',\n",
       "  ('Si_OverTime', 'Single', 'Tre_Performance'),\n",
       "  40,\n",
       "  0.034013605442176874,\n",
       "  0.5555555555555556,\n",
       "  3.4027777777777777),\n",
       " ('Si_Attrition',\n",
       "  ('Satisfaction[10; 11]', 'LivelloZero'),\n",
       "  35,\n",
       "  0.02976190476190476,\n",
       "  0.546875,\n",
       "  3.349609375),\n",
       " ('Si_Attrition',\n",
       "  ('Si_OverTime', 'Single', 'LivelloZero', 'ChangeCompanyRate[0.03; 2.2]'),\n",
       "  35,\n",
       "  0.02976190476190476,\n",
       "  0.546875,\n",
       "  3.349609375),\n",
       " ('Si_Attrition',\n",
       "  ('Si_OverTime', 'Single', 'ChangeCompanyRate[0.03; 2.2]'),\n",
       "  35,\n",
       "  0.02976190476190476,\n",
       "  0.546875,\n",
       "  3.349609375),\n",
       " ('Si_Attrition',\n",
       "  ('Si_OverTime', 'Bachelor', 'YearsInCurrentRole[0; 2]'),\n",
       "  35,\n",
       "  0.02976190476190476,\n",
       "  0.546875,\n",
       "  3.349609375),\n",
       " ('Si_Attrition',\n",
       "  ('Si_OverTime', 'Single', 'LivelloZero', 'TotalWorkingYears[0; 10]'),\n",
       "  40,\n",
       "  0.034013605442176874,\n",
       "  0.5405405405405406,\n",
       "  3.310810810810811),\n",
       " ('Si_Attrition',\n",
       "  ('Si_OverTime', 'Single', 'TotalWorkingYears[0; 10]'),\n",
       "  40,\n",
       "  0.034013605442176874,\n",
       "  0.5405405405405406,\n",
       "  3.310810810810811)]"
      ]
     },
     "execution_count": 153,
     "metadata": {},
     "output_type": "execute_result"
    }
   ],
   "source": [
    "rules_attr.sort(key=lambda x: x[4],reverse=True)\n",
    "rules_attr[0:10]"
   ]
  },
  {
   "cell_type": "code",
   "execution_count": 154,
   "metadata": {},
   "outputs": [
    {
     "data": {
      "text/plain": [
       "22"
      ]
     },
     "execution_count": 154,
     "metadata": {},
     "output_type": "execute_result"
    }
   ],
   "source": [
    "len(rules_attr)"
   ]
  },
  {
   "cell_type": "code",
   "execution_count": 263,
   "metadata": {},
   "outputs": [],
   "source": [
    "df_test=pd.read_csv('Test_pattern.csv')"
   ]
  },
  {
   "cell_type": "code",
   "execution_count": 264,
   "metadata": {},
   "outputs": [
    {
     "name": "stdout",
     "output_type": "stream",
     "text": [
      "<class 'pandas.core.frame.DataFrame'>\n",
      "RangeIndex: 294 entries, 0 to 293\n",
      "Data columns (total 19 columns):\n",
      " #   Column                    Non-Null Count  Dtype \n",
      "---  ------                    --------------  ----- \n",
      " 0   Attrition                 294 non-null    object\n",
      " 1   BusinessTravel            270 non-null    object\n",
      " 2   Education                 294 non-null    object\n",
      " 3   EducationField            294 non-null    object\n",
      " 4   Gender                    278 non-null    object\n",
      " 5   JobRole                   294 non-null    object\n",
      " 6   MaritalStatus             294 non-null    object\n",
      " 7   OverTime                  294 non-null    object\n",
      " 8   PerformanceRating         260 non-null    object\n",
      " 9   StockOptionLevel          294 non-null    object\n",
      " 10  TrainingTimesLastYear     235 non-null    object\n",
      " 11  Satisfaction-Class        294 non-null    object\n",
      " 12  ChangeCompanyRate-Class   163 non-null    object\n",
      " 13  YearsInCurrentRole-Class  294 non-null    object\n",
      " 14  TotalWorkingYears-Class   294 non-null    object\n",
      " 15  PercentSalaryHike-Class   294 non-null    object\n",
      " 16  DistanceFromHome-Class    294 non-null    object\n",
      " 17  Age-Class                 258 non-null    object\n",
      " 18  MonthlyIncome-Class       227 non-null    object\n",
      "dtypes: object(19)\n",
      "memory usage: 43.8+ KB\n"
     ]
    }
   ],
   "source": [
    "df_test.info()"
   ]
  },
  {
   "cell_type": "code",
   "execution_count": 265,
   "metadata": {},
   "outputs": [],
   "source": [
    "Attrition=df_test['Attrition']"
   ]
  },
  {
   "cell_type": "code",
   "execution_count": 266,
   "metadata": {},
   "outputs": [],
   "source": [
    "del df_test['Attrition']"
   ]
  },
  {
   "cell_type": "code",
   "execution_count": 267,
   "metadata": {},
   "outputs": [
    {
     "name": "stdout",
     "output_type": "stream",
     "text": [
      "<class 'pandas.core.frame.DataFrame'>\n",
      "RangeIndex: 294 entries, 0 to 293\n",
      "Data columns (total 18 columns):\n",
      " #   Column                    Non-Null Count  Dtype \n",
      "---  ------                    --------------  ----- \n",
      " 0   BusinessTravel            270 non-null    object\n",
      " 1   Education                 294 non-null    object\n",
      " 2   EducationField            294 non-null    object\n",
      " 3   Gender                    278 non-null    object\n",
      " 4   JobRole                   294 non-null    object\n",
      " 5   MaritalStatus             294 non-null    object\n",
      " 6   OverTime                  294 non-null    object\n",
      " 7   PerformanceRating         260 non-null    object\n",
      " 8   StockOptionLevel          294 non-null    object\n",
      " 9   TrainingTimesLastYear     235 non-null    object\n",
      " 10  Satisfaction-Class        294 non-null    object\n",
      " 11  ChangeCompanyRate-Class   163 non-null    object\n",
      " 12  YearsInCurrentRole-Class  294 non-null    object\n",
      " 13  TotalWorkingYears-Class   294 non-null    object\n",
      " 14  PercentSalaryHike-Class   294 non-null    object\n",
      " 15  DistanceFromHome-Class    294 non-null    object\n",
      " 16  Age-Class                 258 non-null    object\n",
      " 17  MonthlyIncome-Class       227 non-null    object\n",
      "dtypes: object(18)\n",
      "memory usage: 41.5+ KB\n"
     ]
    }
   ],
   "source": [
    "df_test.info()"
   ]
  },
  {
   "cell_type": "code",
   "execution_count": 268,
   "metadata": {},
   "outputs": [
    {
     "data": {
      "text/html": [
       "<div>\n",
       "<style scoped>\n",
       "    .dataframe tbody tr th:only-of-type {\n",
       "        vertical-align: middle;\n",
       "    }\n",
       "\n",
       "    .dataframe tbody tr th {\n",
       "        vertical-align: top;\n",
       "    }\n",
       "\n",
       "    .dataframe thead th {\n",
       "        text-align: right;\n",
       "    }\n",
       "</style>\n",
       "<table border=\"1\" class=\"dataframe\">\n",
       "  <thead>\n",
       "    <tr style=\"text-align: right;\">\n",
       "      <th></th>\n",
       "      <th>BusinessTravel</th>\n",
       "      <th>Education</th>\n",
       "      <th>EducationField</th>\n",
       "      <th>Gender</th>\n",
       "      <th>JobRole</th>\n",
       "      <th>MaritalStatus</th>\n",
       "      <th>OverTime</th>\n",
       "      <th>PerformanceRating</th>\n",
       "      <th>StockOptionLevel</th>\n",
       "      <th>TrainingTimesLastYear</th>\n",
       "      <th>Satisfaction-Class</th>\n",
       "      <th>ChangeCompanyRate-Class</th>\n",
       "      <th>YearsInCurrentRole-Class</th>\n",
       "      <th>TotalWorkingYears-Class</th>\n",
       "      <th>PercentSalaryHike-Class</th>\n",
       "      <th>DistanceFromHome-Class</th>\n",
       "      <th>Age-Class</th>\n",
       "      <th>MonthlyIncome-Class</th>\n",
       "    </tr>\n",
       "  </thead>\n",
       "  <tbody>\n",
       "  </tbody>\n",
       "</table>\n",
       "</div>"
      ],
      "text/plain": [
       "Empty DataFrame\n",
       "Columns: [BusinessTravel, Education, EducationField, Gender, JobRole, MaritalStatus, OverTime, PerformanceRating, StockOptionLevel, TrainingTimesLastYear, Satisfaction-Class, ChangeCompanyRate-Class, YearsInCurrentRole-Class, TotalWorkingYears-Class, PercentSalaryHike-Class, DistanceFromHome-Class, Age-Class, MonthlyIncome-Class]\n",
       "Index: []"
      ]
     },
     "execution_count": 268,
     "metadata": {},
     "output_type": "execute_result"
    }
   ],
   "source": [
    "df_test[(df_test['OverTime']=='Si_OverTime') & \n",
    "       (df_test['StockOptionLevel']=='LivelloZero') & \n",
    "       (df_test['YearsInCurrentRole-Class']=='YearsInCurrentRole[0; 2]') & \n",
    "       (df_test['TotalWorkingYears-Class']=='TotalWorkingYears[0; 10]')]"
   ]
  },
  {
   "cell_type": "code",
   "execution_count": null,
   "metadata": {},
   "outputs": [],
   "source": []
  }
 ],
 "metadata": {
  "kernelspec": {
   "display_name": "Python 3 (ipykernel)",
   "language": "python",
   "name": "python3"
  },
  "language_info": {
   "codemirror_mode": {
    "name": "ipython",
    "version": 3
   },
   "file_extension": ".py",
   "mimetype": "text/x-python",
   "name": "python",
   "nbconvert_exporter": "python",
   "pygments_lexer": "ipython3",
   "version": "3.8.3"
  }
 },
 "nbformat": 4,
 "nbformat_minor": 4
}
